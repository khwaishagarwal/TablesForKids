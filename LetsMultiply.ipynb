{
 "cells": [
  {
   "cell_type": "code",
   "execution_count": null,
   "id": "3ef61db0-91d0-4b05-8dd0-b2ddbb509ea0",
   "metadata": {},
   "outputs": [],
   "source": []
  },
  {
   "cell_type": "code",
   "execution_count": 3,
   "id": "d01a379e-964a-4527-b2fb-780f2599471b",
   "metadata": {},
   "outputs": [],
   "source": [
    "def generate(n):\n",
    "    table=\"\"\n",
    "    for i in range(1,13):\n",
    "        table+=f\"{n} X {i} = {n*i}\\n\"\n",
    "    with open(f\"MultiplicationTables/TableOf{n}\",\"w\") as f:\n",
    "        f.write(table)"
   ]
  },
  {
   "cell_type": "code",
   "execution_count": 5,
   "id": "1021edb8-4ab8-4105-b3ac-e8a816e33455",
   "metadata": {},
   "outputs": [],
   "source": [
    "for i in range(1,21):\n",
    "    generate(i)"
   ]
  },
  {
   "cell_type": "code",
   "execution_count": null,
   "id": "10c27d23-518c-440f-8558-0797e49f995e",
   "metadata": {},
   "outputs": [],
   "source": []
  }
 ],
 "metadata": {
  "kernelspec": {
   "display_name": "Python 3 (ipykernel)",
   "language": "python",
   "name": "python3"
  },
  "language_info": {
   "codemirror_mode": {
    "name": "ipython",
    "version": 3
   },
   "file_extension": ".py",
   "mimetype": "text/x-python",
   "name": "python",
   "nbconvert_exporter": "python",
   "pygments_lexer": "ipython3",
   "version": "3.11.5"
  }
 },
 "nbformat": 4,
 "nbformat_minor": 5
}
